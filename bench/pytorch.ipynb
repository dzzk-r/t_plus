import timeit
import torch

def create_torch_tensors(device):
x = torch.rand((10000, 10000), dtype=torch.float32)
y = torch.rand((10000, 10000), dtype=torch.float32)
x = x.to(device)
y = y.to(device)

return x, y

device = torch.device("cpu")
x, y = create_torch_tensors(device)

%%timeit
x * y

device = torch.device("mps")
x, y = create_torch_tensors(device)

%%timeit
x * y
