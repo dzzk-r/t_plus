import tensorflow as tf


def create_tf_tensors():
    x = tf.random.uniform((10000, 10000), dtype=tf.float32)
    y = tf.random.uniform((10000, 10000), dtype=tf.float32)

    return x, y


x, y = create_tf_tensors()

%%timeit

with tf.device("/CPU:0"):
    x * y

%%timeit

with tf.device("/GPU:0"):
    x * y
